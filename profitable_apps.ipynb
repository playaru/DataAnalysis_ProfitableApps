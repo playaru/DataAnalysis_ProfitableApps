{
 "cells": [
  {
   "cell_type": "markdown",
   "metadata": {},
   "source": [
    "# Profitable App Profiles"
   ]
  },
  {
   "cell_type": "markdown",
   "metadata": {},
   "source": [
    "The objective of this project is to analyze data from AppleStore and Google Play Markets in order to find out which type of App is most profitable."
   ]
  },
  {
   "cell_type": "markdown",
   "metadata": {},
   "source": [
    "In this project we'll do this based in the free apps that receive the profit by using adds, so, the kind of app that attract more users and more clicks per add is more profitable."
   ]
  },
  {
   "cell_type": "markdown",
   "metadata": {},
   "source": [
    "## Exploring Data"
   ]
  },
  {
   "cell_type": "markdown",
   "metadata": {},
   "source": [
    "To start the analyze of some apps, we can start by extracting the information from some free data sets that we can find in web sites like [kaggle](https://www.kaggle.com/).\n",
    "\n",
    "So, we'll use two data sets, one containing informations about apps from [Google Play](https://www.kaggle.com/lava18/google-play-store-apps) and other from [Apple Store](https://www.kaggle.com/ramamet4/app-store-apple-data-set-10k-apps).\n",
    "\n",
    "Let's start by extracting and exploring the data."
   ]
  },
  {
   "cell_type": "code",
   "execution_count": 1,
   "metadata": {},
   "outputs": [],
   "source": [
    "def extract(archive, header=True):\n",
    "    from csv import reader\n",
    "    opened_file = open(archive, encoding='utf8')\n",
    "    read_file = reader(opened_file)\n",
    "    data = list(read_file)\n",
    "    if header:\n",
    "        return data[1:], data[0]\n",
    "    else:\n",
    "        return data"
   ]
  },
  {
   "cell_type": "code",
   "execution_count": 2,
   "metadata": {},
   "outputs": [],
   "source": [
    "def explore_data(dataset, start, end, rows_and_columns = False):\n",
    "    for row in dataset[start:end]:\n",
    "        print(row)\n",
    "        print('\\n')\n",
    "        \n",
    "    if rows_and_columns:\n",
    "        print('Number of rows:', len(dataset))\n",
    "        print('Number of columns', len(dataset[0]))\n",
    "    print()"
   ]
  },
  {
   "cell_type": "markdown",
   "metadata": {},
   "source": [
    "Below we have informations about some apps that we can find in Apple Store or Google Play."
   ]
  },
  {
   "cell_type": "code",
   "execution_count": 3,
   "metadata": {},
   "outputs": [
    {
     "name": "stdout",
     "output_type": "stream",
     "text": [
      "['284882215', 'Facebook', '389879808', 'USD', '0.0', '2974676', '212', '3.5', '3.5', '95.0', '4+', 'Social Networking', '37', '1', '29', '1']\n",
      "\n",
      "\n",
      "['389801252', 'Instagram', '113954816', 'USD', '0.0', '2161558', '1289', '4.5', '4.0', '10.23', '12+', 'Photo & Video', '37', '0', '29', '1']\n",
      "\n",
      "\n",
      "['529479190', 'Clash of Clans', '116476928', 'USD', '0.0', '2130805', '579', '4.5', '4.5', '9.24.12', '9+', 'Games', '38', '5', '18', '1']\n",
      "\n",
      "\n",
      "['420009108', 'Temple Run', '65921024', 'USD', '0.0', '1724546', '3842', '4.5', '4.0', '1.6.2', '9+', 'Games', '40', '5', '1', '1']\n",
      "\n",
      "\n",
      "Number of rows: 7197\n",
      "Number of columns 16\n",
      "\n",
      "['Photo Editor & Candy Camera & Grid & ScrapBook', 'ART_AND_DESIGN', '4.1', '159', '19M', '10,000+', 'Free', '0', 'Everyone', 'Art & Design', 'January 7, 2018', '1.0.0', '4.0.3 and up']\n",
      "\n",
      "\n",
      "['Coloring book moana', 'ART_AND_DESIGN', '3.9', '967', '14M', '500,000+', 'Free', '0', 'Everyone', 'Art & Design;Pretend Play', 'January 15, 2018', '2.0.0', '4.0.3 and up']\n",
      "\n",
      "\n",
      "['U Launcher Lite – FREE Live Cool Themes, Hide Apps', 'ART_AND_DESIGN', '4.7', '87510', '8.7M', '5,000,000+', 'Free', '0', 'Everyone', 'Art & Design', 'August 1, 2018', '1.2.4', '4.0.3 and up']\n",
      "\n",
      "\n",
      "['Sketch - Draw & Paint', 'ART_AND_DESIGN', '4.5', '215644', '25M', '50,000,000+', 'Free', '0', 'Teen', 'Art & Design', 'June 8, 2018', 'Varies with device', '4.2 and up']\n",
      "\n",
      "\n",
      "Number of rows: 10841\n",
      "Number of columns 13\n",
      "\n"
     ]
    }
   ],
   "source": [
    "apple_apps, apple_header = extract('AppleStore.csv')\n",
    "google_apps, google_header = extract('googleplaystore.csv')\n",
    "\n",
    "explore_data(apple_apps, 0, 4, True)\n",
    "explore_data(google_apps, 0, 4, True)"
   ]
  },
  {
   "cell_type": "markdown",
   "metadata": {},
   "source": [
    "As you can see above, the data sets have some columns, each of them describe a information about one of the apps, what is the mean of them you can see by checking the headers.\n",
    "\n",
    "Here we have the headers of the both lists, showing what kind of information the data sets gave to us in each column."
   ]
  },
  {
   "cell_type": "code",
   "execution_count": 4,
   "metadata": {},
   "outputs": [
    {
     "name": "stdout",
     "output_type": "stream",
     "text": [
      "['id', 'track_name', 'size_bytes', 'currency', 'price', 'rating_count_tot', 'rating_count_ver', 'user_rating', 'user_rating_ver', 'ver', 'cont_rating', 'prime_genre', 'sup_devices.num', 'ipadSc_urls.num', 'lang.num', 'vpp_lic']\n",
      "\n",
      "['App', 'Category', 'Rating', 'Reviews', 'Size', 'Installs', 'Type', 'Price', 'Content Rating', 'Genres', 'Last Updated', 'Current Ver', 'Android Ver']\n"
     ]
    }
   ],
   "source": [
    "print(apple_header)\n",
    "print() # create a line without text to make the headers easier to read\n",
    "print(google_header)"
   ]
  },
  {
   "cell_type": "markdown",
   "metadata": {},
   "source": [
    "## Data Cleaning"
   ]
  },
  {
   "cell_type": "markdown",
   "metadata": {},
   "source": [
    "Here we'll be removing the data that can cause problems to our analyzes.\n",
    "For example, if we have duplicated, non-english or apps that aren't free, we'll have some problems and won't reach our goal."
   ]
  },
  {
   "cell_type": "markdown",
   "metadata": {},
   "source": [
    "### Info Missing\n",
    "\n",
    "Let's start by checking if we have any information missing."
   ]
  },
  {
   "cell_type": "code",
   "execution_count": 5,
   "metadata": {},
   "outputs": [],
   "source": [
    "def info_missing(archive):\n",
    "    for row in archive:\n",
    "        if len(row) != len(archive[0]):\n",
    "            print(archive.index(row)) # show the row that the error is\n",
    "            print(len(row)) # show how many info we have\n",
    "            print(len(archive[0]) - len(row)) # how many info is missing"
   ]
  },
  {
   "cell_type": "code",
   "execution_count": 6,
   "metadata": {},
   "outputs": [
    {
     "name": "stdout",
     "output_type": "stream",
     "text": [
      "10472\n",
      "12\n",
      "1\n"
     ]
    }
   ],
   "source": [
    "info_missing(google_apps)"
   ]
  },
  {
   "cell_type": "code",
   "execution_count": 7,
   "metadata": {
    "scrolled": true
   },
   "outputs": [],
   "source": [
    "info_missing(apple_apps)"
   ]
  },
  {
   "cell_type": "markdown",
   "metadata": {},
   "source": [
    "Now that we know one of the errors let's check and repair them."
   ]
  },
  {
   "cell_type": "code",
   "execution_count": 8,
   "metadata": {
    "scrolled": true
   },
   "outputs": [
    {
     "name": "stdout",
     "output_type": "stream",
     "text": [
      "['Life Made WI-Fi Touchscreen Photo Frame', '1.9', '19', '3.0M', '1,000+', 'Free', '0', 'Everyone', '', 'February 11, 2018', '1.0.19', '4.0 and up']\n"
     ]
    }
   ],
   "source": [
    "print(google_apps[10472])"
   ]
  },
  {
   "cell_type": "code",
   "execution_count": 9,
   "metadata": {},
   "outputs": [],
   "source": [
    "del(google_apps[10472]) # removes the app that haves an error from the list"
   ]
  },
  {
   "cell_type": "markdown",
   "metadata": {},
   "source": [
    "Now that we already fix the information missing problem, we'll search for duplicated apps.\n",
    "\n",
    "### Duplicated Apps\n",
    "\n",
    "Let's start to doing this by Google Play apps."
   ]
  },
  {
   "cell_type": "code",
   "execution_count": 10,
   "metadata": {},
   "outputs": [
    {
     "name": "stdout",
     "output_type": "stream",
     "text": [
      "How many duplicated names we have: 1181\n",
      "Some examples: ['Quick PDF Scanner + OCR FREE', 'Box', 'Google My Business', 'ZOOM Cloud Meetings', 'join.me - Simple Meetings', 'Box', 'Zenefits', 'Google Ads', 'Google My Business', 'Slack']\n"
     ]
    }
   ],
   "source": [
    "unique_names = []\n",
    "duplicated_names = []\n",
    "\n",
    "for row in google_apps:\n",
    "    names = row[0]\n",
    "    if names in unique_names:\n",
    "        duplicated_names.append(names)\n",
    "    else:\n",
    "        unique_names.append(names)\n",
    "        \n",
    "print('How many duplicated names we have:', len(duplicated_names))\n",
    "print('Some examples:', (duplicated_names[:10]))"
   ]
  },
  {
   "cell_type": "markdown",
   "metadata": {},
   "source": [
    "To delete the duplicated names, we'll delete the oldest ones and let the newest continue in the list. For this, we need to check which one has the greater number of reviews."
   ]
  },
  {
   "cell_type": "code",
   "execution_count": 11,
   "metadata": {},
   "outputs": [
    {
     "name": "stdout",
     "output_type": "stream",
     "text": [
      "Number of unique apps: 9659\n"
     ]
    }
   ],
   "source": [
    "reviews_max = {}\n",
    "\n",
    "for row in google_apps:\n",
    "    name = row[0]\n",
    "    n_reviews = int(row[3])\n",
    "    if name not in reviews_max:\n",
    "        reviews_max[name] = n_reviews\n",
    "    else:\n",
    "        if n_reviews > reviews_max[name]:\n",
    "            reviews_max[name] = n_reviews\n",
    "            \n",
    "print('Number of unique apps:',len(reviews_max))"
   ]
  },
  {
   "cell_type": "markdown",
   "metadata": {},
   "source": [
    "Now that we already have a dictionary with all unique apps and their max number of reviews, it's time to separate them from the duplicated ones. To do this we'll search for the apps that have the greater number of reviews and put them in a list."
   ]
  },
  {
   "cell_type": "code",
   "execution_count": 12,
   "metadata": {},
   "outputs": [
    {
     "name": "stdout",
     "output_type": "stream",
     "text": [
      "Number of unique apps: 9659\n"
     ]
    }
   ],
   "source": [
    "google_added = [] # here we'll add the name of the unique ones\n",
    "google_clean = [] # here we'll add the row of the unique ones\n",
    "\n",
    "for row in google_apps:\n",
    "    name = row[0]\n",
    "    review = int(row[3])\n",
    "    if review == reviews_max[name] and name not in google_added:\n",
    "        google_added.append(name)\n",
    "        google_clean.append(row)\n",
    "        \n",
    "print('Number of unique apps:',len(google_added))"
   ]
  },
  {
   "cell_type": "markdown",
   "metadata": {},
   "source": [
    "Now let's do the same for the Apple Store."
   ]
  },
  {
   "cell_type": "code",
   "execution_count": 13,
   "metadata": {},
   "outputs": [
    {
     "name": "stdout",
     "output_type": "stream",
     "text": [
      "How many duplicated names we have: 2\n",
      "And they are: ['Mannequin Challenge', 'VR Roller Coaster']\n"
     ]
    }
   ],
   "source": [
    "unique_names2 = []\n",
    "duplicated_names2 = []\n",
    "\n",
    "for row in apple_apps:\n",
    "    names = row[1]\n",
    "    if names in unique_names2:\n",
    "        duplicated_names2.append(names)\n",
    "    else:\n",
    "        unique_names2.append(names)\n",
    "        \n",
    "print('How many duplicated names we have:',len(duplicated_names2))\n",
    "print('And they are:', duplicated_names2)"
   ]
  },
  {
   "cell_type": "code",
   "execution_count": 14,
   "metadata": {},
   "outputs": [
    {
     "name": "stdout",
     "output_type": "stream",
     "text": [
      "Number of unique apps: 7195\n"
     ]
    }
   ],
   "source": [
    "reviews_max2 = {}\n",
    "\n",
    "for row in apple_apps:\n",
    "    names = row[1]\n",
    "    n_reviews = int(row[5])\n",
    "    if names not in reviews_max2:\n",
    "        reviews_max2[names] = n_reviews\n",
    "    else:\n",
    "        if reviews_max2[names] < n_reviews:\n",
    "            reviews_max[names] = n_reviews\n",
    "            \n",
    "print('Number of unique apps:',len(reviews_max2))"
   ]
  },
  {
   "cell_type": "code",
   "execution_count": 15,
   "metadata": {},
   "outputs": [
    {
     "name": "stdout",
     "output_type": "stream",
     "text": [
      "Number of unique apps: 7195\n"
     ]
    }
   ],
   "source": [
    "apple_added = []\n",
    "apple_clean = []\n",
    "\n",
    "for row in apple_apps:\n",
    "    name = row[1]\n",
    "    review = int(row[5])\n",
    "    if reviews_max2[name] == review and name not in apple_added:\n",
    "        apple_added.append(name)\n",
    "        apple_clean.append(row)\n",
    "        \n",
    "print('Number of unique apps:',len(apple_added))"
   ]
  },
  {
   "cell_type": "markdown",
   "metadata": {},
   "source": [
    "Now that we already have created a list for the unique apps, let's create a function to remove the non-english apps from them.\n",
    "\n",
    "### Non English Apps\n",
    "\n",
    "To do this, we'll check the apps that have more than three ascii characters and remove them from list, because probably they are non-english apps, so they can cause problems in the research."
   ]
  },
  {
   "cell_type": "code",
   "execution_count": 16,
   "metadata": {},
   "outputs": [
    {
     "name": "stdout",
     "output_type": "stream",
     "text": [
      "True\n",
      "False\n",
      "True\n",
      "True\n"
     ]
    }
   ],
   "source": [
    "def non_english(name):\n",
    "    ascii = 0\n",
    "    for character in name:\n",
    "        if ord(character) > 127:\n",
    "            ascii += 1\n",
    "        if ascii > 3:  # if an app has more than 3 ascii characters\n",
    "            return False # the app will be removed from the list (probably non-english)\n",
    "    return True \n",
    "\n",
    "# examples\n",
    "print(non_english('Instagram'))\n",
    "print(non_english('电视剧热播'))\n",
    "print(non_english('Docs To Go™ Free Office Suite'))\n",
    "print(non_english('Instachat 😜'))"
   ]
  },
  {
   "cell_type": "code",
   "execution_count": 17,
   "metadata": {},
   "outputs": [
    {
     "name": "stdout",
     "output_type": "stream",
     "text": [
      "9614\n",
      "6181\n"
     ]
    }
   ],
   "source": [
    "english_google = []\n",
    "english_apple = []\n",
    "\n",
    "for row in google_clean:\n",
    "    name = row[0]\n",
    "    if non_english(name):\n",
    "        english_google.append(row)\n",
    "        \n",
    "for row in apple_clean:\n",
    "    name = row[1]\n",
    "    if non_english(name):\n",
    "        english_apple.append(row)\n",
    "        \n",
    "print(len(english_google))\n",
    "print(len(english_apple))"
   ]
  },
  {
   "cell_type": "markdown",
   "metadata": {},
   "source": [
    "### Paid Apps\n",
    "\n",
    "Now that we have removed some errors from our lists, let's check if we have non-free apps in them. So, we'll create a new list just for the free apps."
   ]
  },
  {
   "cell_type": "code",
   "execution_count": 18,
   "metadata": {
    "scrolled": true
   },
   "outputs": [
    {
     "name": "stdout",
     "output_type": "stream",
     "text": [
      "8864\n",
      "3220\n"
     ]
    }
   ],
   "source": [
    "free_google = []\n",
    "free_apple = []\n",
    "\n",
    "for row in english_google:\n",
    "    price = row[7]\n",
    "    if price == '0':\n",
    "        free_google.append(row)\n",
    "\n",
    "for row in english_apple:\n",
    "    price = row[4]\n",
    "    if price == '0.0':\n",
    "        free_apple.append(row)\n",
    "        \n",
    "print(len(free_google))\n",
    "print(len(free_apple))"
   ]
  },
  {
   "cell_type": "markdown",
   "metadata": {},
   "source": [
    "Now the data is already clean, so let's start to research informations about profitable apps."
   ]
  },
  {
   "cell_type": "markdown",
   "metadata": {},
   "source": [
    "## Data Research"
   ]
  },
  {
   "cell_type": "markdown",
   "metadata": {},
   "source": [
    "To create a profitable app, first we need to know a genre that the users are used to like. So, we'll start by searching the most commons genres in market."
   ]
  },
  {
   "cell_type": "code",
   "execution_count": 34,
   "metadata": {},
   "outputs": [],
   "source": [
    "def freq_table(dataset, index):\n",
    "    table = {}\n",
    "    for c in dataset:\n",
    "        value = c[index]\n",
    "        if value in table:\n",
    "            table[value] += 1\n",
    "        else:\n",
    "            table[value] = 1\n",
    "    \n",
    "    percentage = {}\n",
    "    for key in table:\n",
    "        percentage[key] = ((table[key]/len(dataset)) * 100)\n",
    "        \n",
    "    return percentage\n",
    "\n",
    "def display_table(dataset, index):\n",
    "    table = freq_table(dataset, index)\n",
    "    ordenate(table)\n",
    "\n",
    "def ordenate(info):\n",
    "    info_display = []\n",
    "    for key in info:\n",
    "        value = (info[key], key)\n",
    "        info_display.append(value)\n",
    "    info_sorted = sorted(info_display, reverse=True)\n",
    "    for show in info_sorted:\n",
    "        print(f'{show[1]}: {show[0]}')"
   ]
  },
  {
   "cell_type": "markdown",
   "metadata": {},
   "source": [
    "The frequency table of the most common apps is already created. Let's show them."
   ]
  },
  {
   "cell_type": "markdown",
   "metadata": {},
   "source": [
    "### Frequency of Category at Google Play"
   ]
  },
  {
   "cell_type": "code",
   "execution_count": 35,
   "metadata": {},
   "outputs": [
    {
     "name": "stdout",
     "output_type": "stream",
     "text": [
      "FAMILY: 18.907942238267147\n",
      "GAME: 9.724729241877256\n",
      "TOOLS: 8.461191335740072\n",
      "BUSINESS: 4.591606498194946\n",
      "LIFESTYLE: 3.9034296028880866\n",
      "PRODUCTIVITY: 3.892148014440433\n",
      "FINANCE: 3.7003610108303246\n",
      "MEDICAL: 3.531137184115524\n",
      "SPORTS: 3.395758122743682\n",
      "PERSONALIZATION: 3.3167870036101084\n",
      "COMMUNICATION: 3.2378158844765346\n",
      "HEALTH_AND_FITNESS: 3.0798736462093865\n",
      "PHOTOGRAPHY: 2.944494584837545\n",
      "NEWS_AND_MAGAZINES: 2.7978339350180503\n",
      "SOCIAL: 2.6624548736462095\n",
      "TRAVEL_AND_LOCAL: 2.33528880866426\n",
      "SHOPPING: 2.2450361010830324\n",
      "BOOKS_AND_REFERENCE: 2.1435018050541514\n",
      "DATING: 1.861462093862816\n",
      "VIDEO_PLAYERS: 1.7937725631768955\n",
      "MAPS_AND_NAVIGATION: 1.3989169675090252\n",
      "FOOD_AND_DRINK: 1.2409747292418771\n",
      "EDUCATION: 1.1620036101083033\n",
      "ENTERTAINMENT: 0.9589350180505415\n",
      "LIBRARIES_AND_DEMO: 0.9363718411552346\n",
      "AUTO_AND_VEHICLES: 0.9250902527075812\n",
      "HOUSE_AND_HOME: 0.8235559566787004\n",
      "WEATHER: 0.8009927797833934\n",
      "EVENTS: 0.7107400722021661\n",
      "PARENTING: 0.6543321299638989\n",
      "ART_AND_DESIGN: 0.6430505415162455\n",
      "COMICS: 0.6204873646209386\n",
      "BEAUTY: 0.5979241877256317\n"
     ]
    }
   ],
   "source": [
    "display_table(free_google, 1)"
   ]
  },
  {
   "cell_type": "markdown",
   "metadata": {},
   "source": [
    "The most used Category of app in Google Play is the \"Family\". So, as we can see, at this market we don't have too much apps with focus on fun. In this way, develop a free app to this platform would need to be something with another utility. But, in this platform, the majority of the content is made to kids, so, the easier way to made a profitable app is making them for kids."
   ]
  },
  {
   "cell_type": "markdown",
   "metadata": {},
   "source": [
    "### Most Downloaded Google Play Apps by Category"
   ]
  },
  {
   "cell_type": "code",
   "execution_count": 37,
   "metadata": {},
   "outputs": [
    {
     "name": "stdout",
     "output_type": "stream",
     "text": [
      "COMMUNICATION: 84359886.95348836\n",
      "SOCIAL: 47694467.46440678\n",
      "VIDEO_PLAYERS: 35554301.25714286\n",
      "PRODUCTIVITY: 33434177.75707547\n",
      "GAME: 30669601.761363637\n",
      "PHOTOGRAPHY: 30114172.10447761\n",
      "TRAVEL_AND_LOCAL: 26623593.58914729\n",
      "NEWS_AND_MAGAZINES: 26488755.335689045\n",
      "ENTERTAINMENT: 19256107.382550336\n",
      "TOOLS: 13585731.809015421\n",
      "SHOPPING: 12491726.096153846\n",
      "BOOKS_AND_REFERENCE: 8318050.112554112\n",
      "PERSONALIZATION: 5932384.647959184\n",
      "EDUCATION: 5586230.769230769\n",
      "MAPS_AND_NAVIGATION: 5286729.124087592\n",
      "FAMILY: 5201959.181034483\n",
      "WEATHER: 5196347.804878049\n",
      "HEALTH_AND_FITNESS: 4642441.3841642225\n",
      "SPORTS: 4560350.255208333\n",
      "FINANCE: 2395215.120218579\n",
      "BUSINESS: 2178075.7934782607\n",
      "FOOD_AND_DRINK: 2156683.0787401577\n",
      "HOUSE_AND_HOME: 1917187.0568181819\n",
      "ART_AND_DESIGN: 1912893.8461538462\n",
      "LIFESTYLE: 1407443.8193717278\n",
      "DATING: 1129533.3632478632\n",
      "COMICS: 934769.1666666666\n",
      "LIBRARIES_AND_DEMO: 741128.3529411765\n",
      "AUTO_AND_VEHICLES: 625061.305882353\n",
      "PARENTING: 525351.8333333334\n",
      "BEAUTY: 513151.88679245283\n",
      "EVENTS: 249580.640625\n",
      "MEDICAL: 115026.86177105832\n"
     ]
    }
   ],
   "source": [
    "categories = freq_table(google_apps, 1)\n",
    "cat = {}\n",
    "for category in categories:\n",
    "    tot = 0\n",
    "    len_category = 0\n",
    "    for row in google_apps:\n",
    "        category_app = row[1]\n",
    "        installs = row[5]\n",
    "        if category_app == category:\n",
    "            n = installs.replace('+', '').replace(',', '')\n",
    "            tot += float(n)\n",
    "            len_category += 1\n",
    "    cat[category] = tot/len_category\n",
    "    \n",
    "ordenate(cat)"
   ]
  },
  {
   "cell_type": "markdown",
   "metadata": {},
   "source": [
    "The most downloaded apps from Google Play  are Communication, Social and Video Players, but that ones probably got influenced by big apps, like Whatsapp, Youtube, Instagram and others. So, the most used that can be easier to profit than go against great corporations are the productivity or the games. So, according to the last list, make an app about how to make a children more productive or games for childs can be a good option to profit in Google Play."
   ]
  },
  {
   "cell_type": "markdown",
   "metadata": {},
   "source": [
    "### Frequency of Genres at Google Play"
   ]
  },
  {
   "cell_type": "code",
   "execution_count": 21,
   "metadata": {
    "scrolled": false
   },
   "outputs": [
    {
     "name": "stdout",
     "output_type": "stream",
     "text": [
      "Tools: 7.767527675276753\n",
      "Entertainment: 5.747232472324723\n",
      "Education: 5.064575645756458\n",
      "Medical: 4.271217712177122\n",
      "Business: 4.243542435424354\n",
      "Productivity: 3.911439114391144\n",
      "Sports: 3.671586715867159\n",
      "Personalization: 3.616236162361624\n",
      "Communication: 3.5701107011070112\n",
      "Lifestyle: 3.5147601476014763\n",
      "Finance: 3.3763837638376386\n",
      "Action: 3.367158671586716\n",
      "Health & Fitness: 3.1457564575645756\n",
      "Photography: 3.0904059040590406\n",
      "Social: 2.7214022140221403\n",
      "News & Magazines: 2.61070110701107\n",
      "Shopping: 2.3985239852398523\n",
      "Travel & Local: 2.370848708487085\n",
      "Dating: 2.158671586715867\n",
      "Books & Reference: 2.1309963099630997\n",
      "Arcade: 2.029520295202952\n",
      "Simulation: 1.8450184501845017\n",
      "Casual: 1.7804428044280445\n",
      "Video Players & Editors: 1.595940959409594\n",
      "Puzzle: 1.2915129151291513\n",
      "Maps & Navigation: 1.2638376383763839\n",
      "Food & Drink: 1.1715867158671587\n",
      "Role Playing: 1.0055350553505535\n",
      "Strategy: 0.9870848708487084\n",
      "Racing: 0.904059040590406\n",
      "House & Home: 0.8118081180811807\n",
      "Libraries & Demo: 0.7841328413284132\n",
      "Auto & Vehicles: 0.7841328413284132\n",
      "Weather: 0.7564575645756457\n",
      "Adventure: 0.6918819188191881\n",
      "Events: 0.5904059040590406\n",
      "Comics: 0.544280442804428\n",
      "Art & Design: 0.5350553505535056\n",
      "Beauty: 0.488929889298893\n",
      "Education;Education: 0.46125461254612543\n",
      "Card: 0.44280442804428044\n",
      "Parenting: 0.4243542435424354\n",
      "Board: 0.40590405904059035\n",
      "Educational;Education: 0.37822878228782286\n",
      "Casino: 0.35977859778597787\n",
      "Trivia: 0.3505535055350553\n",
      "Educational: 0.3413284132841329\n",
      "Casual;Pretend Play: 0.2859778597785978\n",
      "Word: 0.2675276752767528\n",
      "Entertainment;Music & Video: 0.24907749077490776\n",
      "Education;Pretend Play: 0.2121771217712177\n",
      "Music: 0.20295202952029517\n",
      "Casual;Action & Adventure: 0.1937269372693727\n",
      "Racing;Action & Adventure: 0.18450184501845018\n",
      "Puzzle;Brain Games: 0.17527675276752766\n",
      "Educational;Pretend Play: 0.17527675276752766\n",
      "Action;Action & Adventure: 0.15682656826568267\n",
      "Arcade;Action & Adventure: 0.14760147601476015\n",
      "Board;Brain Games: 0.13837638376383762\n",
      "Casual;Brain Games: 0.11992619926199262\n",
      "Adventure;Action & Adventure: 0.11992619926199262\n",
      "Simulation;Action & Adventure: 0.10147601476014759\n",
      "Entertainment;Brain Games: 0.07380073800738007\n",
      "Role Playing;Action & Adventure: 0.06457564575645756\n",
      "Parenting;Education: 0.06457564575645756\n",
      "Education;Creativity: 0.06457564575645756\n",
      "Casual;Creativity: 0.06457564575645756\n",
      "Art & Design;Creativity: 0.06457564575645756\n",
      "Parenting;Music & Video: 0.055350553505535055\n",
      "Educational;Brain Games: 0.055350553505535055\n",
      "Education;Action & Adventure: 0.055350553505535055\n",
      "Role Playing;Pretend Play: 0.046125461254612546\n",
      "Puzzle;Action & Adventure: 0.046125461254612546\n",
      "Educational;Creativity: 0.046125461254612546\n",
      "Education;Music & Video: 0.046125461254612546\n",
      "Education;Brain Games: 0.046125461254612546\n",
      "Sports;Action & Adventure: 0.03690036900369004\n",
      "Simulation;Pretend Play: 0.03690036900369004\n",
      "Educational;Action & Adventure: 0.03690036900369004\n",
      "Video Players & Editors;Music & Video: 0.027675276752767528\n",
      "Simulation;Education: 0.027675276752767528\n",
      "Music;Music & Video: 0.027675276752767528\n",
      "Entertainment;Creativity: 0.027675276752767528\n",
      "Entertainment;Action & Adventure: 0.027675276752767528\n",
      "Casual;Education: 0.027675276752767528\n",
      "Board;Action & Adventure: 0.027675276752767528\n",
      "Video Players & Editors;Creativity: 0.01845018450184502\n",
      "Strategy;Action & Adventure: 0.01845018450184502\n",
      "Puzzle;Creativity: 0.01845018450184502\n",
      "Entertainment;Pretend Play: 0.01845018450184502\n",
      "Casual;Music & Video: 0.01845018450184502\n",
      "Card;Action & Adventure: 0.01845018450184502\n",
      "Books & Reference;Education: 0.01845018450184502\n",
      "Art & Design;Pretend Play: 0.01845018450184502\n",
      "Art & Design;Action & Adventure: 0.01845018450184502\n",
      "Adventure;Education: 0.01845018450184502\n",
      "Trivia;Education: 0.00922509225092251\n",
      "Travel & Local;Action & Adventure: 0.00922509225092251\n",
      "Tools;Education: 0.00922509225092251\n",
      "Strategy;Education: 0.00922509225092251\n",
      "Strategy;Creativity: 0.00922509225092251\n",
      "Role Playing;Education: 0.00922509225092251\n",
      "Role Playing;Brain Games: 0.00922509225092251\n",
      "Racing;Pretend Play: 0.00922509225092251\n",
      "Puzzle;Education: 0.00922509225092251\n",
      "Parenting;Brain Games: 0.00922509225092251\n",
      "Music & Audio;Music & Video: 0.00922509225092251\n",
      "Lifestyle;Pretend Play: 0.00922509225092251\n",
      "Lifestyle;Education: 0.00922509225092251\n",
      "Health & Fitness;Education: 0.00922509225092251\n",
      "Health & Fitness;Action & Adventure: 0.00922509225092251\n",
      "Entertainment;Education: 0.00922509225092251\n",
      "Communication;Creativity: 0.00922509225092251\n",
      "Comics;Creativity: 0.00922509225092251\n",
      "Card;Brain Games: 0.00922509225092251\n",
      "Books & Reference;Creativity: 0.00922509225092251\n",
      "Board;Pretend Play: 0.00922509225092251\n",
      "Arcade;Pretend Play: 0.00922509225092251\n",
      "Adventure;Brain Games: 0.00922509225092251\n"
     ]
    }
   ],
   "source": [
    "display_table(google_apps, -4)"
   ]
  },
  {
   "cell_type": "markdown",
   "metadata": {},
   "source": [
    "As was said before, the most easier way to profit in Google Play is developing apps for kids. But, in the Genres, the most used of them is tools, so, complementing my last answer, the most safe way to profit in Google Play is creating some app that can be used as tool by kids or by them parents."
   ]
  },
  {
   "cell_type": "markdown",
   "metadata": {},
   "source": [
    "### Frequency of Genres at Apple Store"
   ]
  },
  {
   "cell_type": "code",
   "execution_count": 22,
   "metadata": {
    "scrolled": false
   },
   "outputs": [
    {
     "name": "stdout",
     "output_type": "stream",
     "text": [
      "Games: 58.13664596273293\n",
      "Entertainment: 7.888198757763975\n",
      "Photo & Video: 4.968944099378882\n",
      "Education: 3.6645962732919255\n",
      "Social Networking: 3.291925465838509\n",
      "Shopping: 2.608695652173913\n",
      "Utilities: 2.515527950310559\n",
      "Sports: 2.142857142857143\n",
      "Music: 2.049689440993789\n",
      "Health & Fitness: 2.018633540372671\n",
      "Productivity: 1.7391304347826086\n",
      "Lifestyle: 1.5838509316770186\n",
      "News: 1.3354037267080745\n",
      "Travel: 1.2422360248447204\n",
      "Finance: 1.1180124223602486\n",
      "Weather: 0.8695652173913043\n",
      "Food & Drink: 0.8074534161490683\n",
      "Reference: 0.5590062111801243\n",
      "Business: 0.5279503105590062\n",
      "Book: 0.43478260869565216\n",
      "Navigation: 0.18633540372670807\n",
      "Medical: 0.18633540372670807\n",
      "Catalogs: 0.12422360248447205\n"
     ]
    }
   ],
   "source": [
    "display_table(free_apple, -5)"
   ]
  },
  {
   "cell_type": "markdown",
   "metadata": {},
   "source": [
    "At Apple Store the most common Genre of app is by far 'Games', so, the focus in this platform is clearly fun. In this way, create a free game that the player receives an add everytime he dies could be a good exemple about how can we profit in this Genre."
   ]
  },
  {
   "cell_type": "markdown",
   "metadata": {},
   "source": [
    "### Most Download Apps by Genre at App Store"
   ]
  },
  {
   "cell_type": "code",
   "execution_count": 36,
   "metadata": {},
   "outputs": [
    {
     "name": "stdout",
     "output_type": "stream",
     "text": [
      "Social Networking: 60253.84920634921\n",
      "Music: 29047.109489051094\n",
      "Reference: 27037.188679245282\n",
      "Shopping: 26635.011764705883\n",
      "Finance: 23353.530612244896\n",
      "Weather: 23145.246376811596\n",
      "Food & Drink: 19934.386363636364\n",
      "Navigation: 19370.821428571428\n",
      "Travel: 19030.183333333334\n",
      "News: 16980.315789473683\n",
      "Games: 15595.90442477876\n",
      "Sports: 15350.913461538461\n",
      "Photo & Video: 14688.715542521993\n",
      "Health & Fitness: 10802.157575757576\n",
      "Book: 10359.2\n",
      "Lifestyle: 8930.373737373737\n",
      "Entertainment: 8862.409799554565\n",
      "Productivity: 8508.089285714286\n",
      "Utilities: 7927.525821596244\n",
      "Business: 5149.320754716981\n",
      "Catalogs: 3465.0\n",
      "Education: 2472.278048780488\n",
      "Medical: 648.952380952381\n"
     ]
    }
   ],
   "source": [
    "genre = freq_table(free_apple, -5)\n",
    "for key in genre:\n",
    "    total = 0\n",
    "    len_genre = 0\n",
    "    for row in english_apple:\n",
    "        genre_app = row[-5]\n",
    "        tot_rating = float(row[5])\n",
    "        if key == genre_app:\n",
    "            len_genre +=1\n",
    "            total += tot_rating\n",
    "    genre[key] = total/len_genre\n",
    "\n",
    "ordenate(genre)"
   ]
  },
  {
   "cell_type": "markdown",
   "metadata": {},
   "source": [
    "The most download apps at Apple Store are the Social Network ones, but probably are influenced by the giant apps like Instagram, Facebook, Whatsapp and others, so probably isn't safe try to profit against big companies (this happens with the music category too, because of apps like spotify, deezer, apple music...). So, the best options to try to profit are games (as was said before), or, according to this list, the Reference, Shopping or Finance are able to be a good option."
   ]
  },
  {
   "cell_type": "markdown",
   "metadata": {},
   "source": [
    "# Conclusion"
   ]
  },
  {
   "cell_type": "markdown",
   "metadata": {},
   "source": [
    "At all, looks like the easier way to make money in both platforms at same time is developing a game for kids.\n",
    "\n",
    "-> The most frequent genre in App Store is games.\n",
    "\n",
    "-> Games is on Top 5 most downloaded games from Google Play.\n",
    "\n",
    "-> The most frequent category in Google Play is  family, that involve childrens."
   ]
  }
 ],
 "metadata": {
  "kernelspec": {
   "display_name": "Python 3",
   "language": "python",
   "name": "python3"
  },
  "language_info": {
   "codemirror_mode": {
    "name": "ipython",
    "version": 3
   },
   "file_extension": ".py",
   "mimetype": "text/x-python",
   "name": "python",
   "nbconvert_exporter": "python",
   "pygments_lexer": "ipython3",
   "version": "3.8.2"
  }
 },
 "nbformat": 4,
 "nbformat_minor": 2
}
